{
 "cells": [
  {
   "cell_type": "code",
   "execution_count": 3,
   "metadata": {
    "collapsed": true
   },
   "outputs": [],
   "source": [
    "import numpy as np"
   ]
  },
  {
   "cell_type": "code",
   "execution_count": 8,
   "outputs": [
    {
     "data": {
      "text/plain": "array([[[[  3,   3,   3, ...,   3,   3,   3],\n         [  3,   3,   3, ...,   3,   3,   3],\n         [  3,   3,   3, ...,   3,   3,   3],\n         ...,\n         [  3,   3,   3, ...,   2,   2,   2],\n         [  3,   3,   3, ...,   2,   2,   2],\n         [  3,   3,   3, ...,   2,   2,   2]]],\n\n\n       [[[ 84,  50,  42, ...,  45,  46,  55],\n         [ 82,  47,  41, ...,  41,  42,  50],\n         [ 79,  46,  41, ...,  40,  40,  48],\n         ...,\n         [225, 225, 223, ..., 223, 224, 224],\n         [227, 227, 226, ..., 224, 225, 226],\n         [228, 228, 227, ..., 226, 227, 228]]],\n\n\n       [[[228, 200,  43, ...,  35,  37,  35],\n         [224, 196,  43, ...,  24,  25,  24],\n         [224, 197,  48, ...,  20,  21,  20],\n         ...,\n         [191, 189, 188, ...,  34,  32,  36],\n         [194, 190, 188, ...,  36,  44,  39],\n         [196, 193, 192, ...,  38,  62,  63]]],\n\n\n       [[[  9,   9,   9, ...,   8,   8,  14],\n         [  9,   9,   9, ...,   8,   8,  14],\n         [  9,   9,   9, ...,   8,   8,  14],\n         ...,\n         [  7,   7,   8, ...,   9,  10,  10],\n         [  7,   7,   8, ...,  15,  16,  14],\n         [  7,   7,   8, ...,  21,  24,  22]]]], dtype=uint8)"
     },
     "execution_count": 8,
     "metadata": {},
     "output_type": "execute_result"
    }
   ],
   "source": [
    "dfx = np.load(\"../data/X_merged.npy\")\n",
    "dfy = np.load(\"../data/Y_merged.npy\")\n",
    "dfx[1:5]"
   ],
   "metadata": {
    "collapsed": false,
    "pycharm": {
     "name": "#%%\n"
    }
   }
  },
  {
   "cell_type": "code",
   "execution_count": 17,
   "outputs": [],
   "source": [
    "#np.save(\"../crossVal/aa.npy\", dfx)\n",
    "nFold = 5\n",
    "portion = int(len(dfx)/nFold)\n",
    "subsetsX = []\n",
    "subsetsY = []\n",
    "for i in range(nFold):\n",
    "    subsetsX.append(dfx[i*portion : (i+1)*portion])\n",
    "    subsetsY.append(dfy[i*portion : (i+1)*portion])\n"
   ],
   "metadata": {
    "collapsed": false,
    "pycharm": {
     "name": "#%%\n"
    }
   }
  },
  {
   "cell_type": "code",
   "execution_count": 21,
   "outputs": [],
   "source": [
    "for i in range(nFold):\n",
    "    xtest_i = subsetsX[i]\n",
    "    ytest_i = subsetsY[i]\n",
    "    xtrain_i = np.concatenate(subsetsX[:i] + subsetsX[i+1:],axis=0)\n",
    "    ytrain_i = np.concatenate(subsetsY[:i] + subsetsY[i+1:],axis=0)\n",
    "    np.save(\"../crossVal/X{}_train.npy\".format(i+1), xtrain_i)\n",
    "    np.save(\"../crossVal/X{}_test.npy\".format(i+1), xtest_i)\n",
    "    np.save(\"../crossVal/Y{}_train.npy\".format(i+1), ytrain_i)\n",
    "    np.save(\"../crossVal/Y{}_test.npy\".format(i+1), ytest_i)"
   ],
   "metadata": {
    "collapsed": false,
    "pycharm": {
     "name": "#%%\n"
    }
   }
  }
 ],
 "metadata": {
  "kernelspec": {
   "display_name": "Python 3",
   "language": "python",
   "name": "python3"
  },
  "language_info": {
   "codemirror_mode": {
    "name": "ipython",
    "version": 2
   },
   "file_extension": ".py",
   "mimetype": "text/x-python",
   "name": "python",
   "nbconvert_exporter": "python",
   "pygments_lexer": "ipython2",
   "version": "2.7.6"
  }
 },
 "nbformat": 4,
 "nbformat_minor": 0
}